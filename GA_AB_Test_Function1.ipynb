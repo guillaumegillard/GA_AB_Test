{
 "cells": [
  {
   "cell_type": "code",
   "execution_count": null,
   "metadata": {},
   "outputs": [],
   "source": [
    "import numpy as np\n",
    "import matplotlib.pyplot as plt\n",
    "plt.style.use('ggplot')"
   ]
  },
  {
   "cell_type": "code",
   "execution_count": 3,
   "metadata": {},
   "outputs": [],
   "source": [
    "def plot_norm_dist(ax, mu, sig, with_CI=False, sig_level=0.05, label=None):\n",
    "\n",
    "    \"\"\"Adds a normal distribution\n",
    "    Example:\n",
    "        plot_norm_dist(ax, 0, 1)  # plots a standard normal distribution\n",
    "    Parameters:\n",
    "        ax (matplotlib axes)\n",
    "        mu (float): mean of the normal distribution\n",
    "        sig (float): standard deviation of the normal distribution\n",
    "    Returns:\n",
    "        The function adds a plot to the axes object provided\n",
    "    \"\"\"\n",
    "    x = np.linspace(mu - 12 * sig, mu + 12 * sig, 1000)\n",
    "    y = scs.norm(mu, sig).pdf(x)\n",
    "    ax.plot(x, y, label=label)"
   ]
  },
  {
   "cell_type": "code",
   "execution_count": 4,
   "metadata": {},
   "outputs": [],
   "source": [
    "\n",
    "def plot_binom_dist(ax, n, p, label=None):\n",
    "\n",
    "    \"\"\"Adds a binomial distribution\n",
    "    Example:\n",
    "        plot_norm_dist(ax, 0, 1)  # plots a standard normal distribution\n",
    "    Parameters:\n",
    "        ax (matplotlib axes)\n",
    "        n (float): population of the sample\n",
    "        p (float): convertion rate of the population \n",
    "    Returns:\n",
    "        The function adds a plot to the axes object provided\n",
    "    \"\"\"\n",
    "    x = np.linspace(-100*(p*n), +100*(p*n), n+1, dtype = int)\n",
    "    y = scs.binom(n, p).pmf(x)\n",
    "    ax.plot(x, y, label=label)"
   ]
  },
  {
   "cell_type": "code",
   "execution_count": null,
   "metadata": {},
   "outputs": [],
   "source": []
  }
 ],
 "metadata": {
  "kernelspec": {
   "display_name": "Python 3",
   "language": "python",
   "name": "python3"
  },
  "language_info": {
   "codemirror_mode": {
    "name": "ipython",
    "version": 3
   },
   "file_extension": ".py",
   "mimetype": "text/x-python",
   "name": "python",
   "nbconvert_exporter": "python",
   "pygments_lexer": "ipython3",
   "version": "3.7.1"
  }
 },
 "nbformat": 4,
 "nbformat_minor": 2
}
